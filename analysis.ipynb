{
 "cells": [
  {
   "cell_type": "code",
   "execution_count": 88,
   "metadata": {},
   "outputs": [],
   "source": [
    "import pandas as pd\n",
    "import numpy as np\n",
    "import matplotlib.pyplot as plt\n",
    "import seaborn as sns\n",
    "from sklearn.decomposition import PCA"
   ]
  },
  {
   "cell_type": "code",
   "execution_count": 89,
   "metadata": {},
   "outputs": [
    {
     "name": "stdout",
     "output_type": "stream",
     "text": [
      "1.5.0\n"
     ]
    }
   ],
   "source": [
    "# print pandas version\n",
    "print(pd.__version__)"
   ]
  },
  {
   "cell_type": "code",
   "execution_count": 90,
   "metadata": {},
   "outputs": [],
   "source": [
    "df = pd.read_csv('./data/data.csv')"
   ]
  },
  {
   "cell_type": "code",
   "execution_count": 91,
   "metadata": {},
   "outputs": [
    {
     "name": "stdout",
     "output_type": "stream",
     "text": [
      "<class 'pandas.core.frame.DataFrame'>\n",
      "RangeIndex: 569 entries, 0 to 568\n",
      "Data columns (total 33 columns):\n",
      " #   Column                   Non-Null Count  Dtype  \n",
      "---  ------                   --------------  -----  \n",
      " 0   id                       569 non-null    int64  \n",
      " 1   diagnosis                569 non-null    object \n",
      " 2   radius_mean              569 non-null    float64\n",
      " 3   texture_mean             569 non-null    float64\n",
      " 4   perimeter_mean           569 non-null    float64\n",
      " 5   area_mean                569 non-null    float64\n",
      " 6   smoothness_mean          569 non-null    float64\n",
      " 7   compactness_mean         569 non-null    float64\n",
      " 8   concavity_mean           569 non-null    float64\n",
      " 9   concave points_mean      569 non-null    float64\n",
      " 10  symmetry_mean            569 non-null    float64\n",
      " 11  fractal_dimension_mean   569 non-null    float64\n",
      " 12  radius_se                569 non-null    float64\n",
      " 13  texture_se               569 non-null    float64\n",
      " 14  perimeter_se             569 non-null    float64\n",
      " 15  area_se                  569 non-null    float64\n",
      " 16  smoothness_se            569 non-null    float64\n",
      " 17  compactness_se           569 non-null    float64\n",
      " 18  concavity_se             569 non-null    float64\n",
      " 19  concave points_se        569 non-null    float64\n",
      " 20  symmetry_se              569 non-null    float64\n",
      " 21  fractal_dimension_se     569 non-null    float64\n",
      " 22  radius_worst             569 non-null    float64\n",
      " 23  texture_worst            569 non-null    float64\n",
      " 24  perimeter_worst          569 non-null    float64\n",
      " 25  area_worst               569 non-null    float64\n",
      " 26  smoothness_worst         569 non-null    float64\n",
      " 27  compactness_worst        569 non-null    float64\n",
      " 28  concavity_worst          569 non-null    float64\n",
      " 29  concave points_worst     569 non-null    float64\n",
      " 30  symmetry_worst           569 non-null    float64\n",
      " 31  fractal_dimension_worst  569 non-null    float64\n",
      " 32  Unnamed: 32              0 non-null      float64\n",
      "dtypes: float64(31), int64(1), object(1)\n",
      "memory usage: 146.8+ KB\n"
     ]
    }
   ],
   "source": [
    "# display basic information about the dataset\n",
    "df.info()"
   ]
  },
  {
   "cell_type": "code",
   "execution_count": 92,
   "metadata": {},
   "outputs": [],
   "source": [
    "# drop columns id and Unnamed: 32\n",
    "df.drop(['id', 'Unnamed: 32'], axis=1, inplace=True)"
   ]
  },
  {
   "cell_type": "code",
   "execution_count": 93,
   "metadata": {},
   "outputs": [
    {
     "data": {
      "text/plain": [
       "array(['M', 'B'], dtype=object)"
      ]
     },
     "execution_count": 93,
     "metadata": {},
     "output_type": "execute_result"
    }
   ],
   "source": [
    "# display all unique values in the diagnosis column\n",
    "df['diagnosis'].unique()"
   ]
  },
  {
   "cell_type": "code",
   "execution_count": 94,
   "metadata": {},
   "outputs": [],
   "source": [
    "# convert diagnosis column to bool (M = 1, B = 0)\n",
    "df['diagnosis'] = df['diagnosis'].map({'M': 1, 'B': 0}).astype('bool')"
   ]
  },
  {
   "cell_type": "code",
   "execution_count": 95,
   "metadata": {},
   "outputs": [
    {
     "name": "stdout",
     "output_type": "stream",
     "text": [
      "False    357\n",
      "True     212\n",
      "Name: diagnosis, dtype: int64\n"
     ]
    },
    {
     "data": {
      "text/plain": [
       "<AxesSubplot: >"
      ]
     },
     "execution_count": 95,
     "metadata": {},
     "output_type": "execute_result"
    },
    {
     "data": {
      "image/png": "[encoded data removed]",
      "text/plain": [
       "<Figure size 640x480 with 1 Axes>"
      ]
     },
     "metadata": {},
     "output_type": "display_data"
    }
   ],
   "source": [
    "# check balance of diagnosis column\n",
    "print(df['diagnosis'].value_counts())\n",
    "# display histogram of diagnosis column\n",
    "df['diagnosis'].astype('uint8').hist()"
   ]
  },
  {
   "attachments": {},
   "cell_type": "markdown",
   "metadata": {},
   "source": [
    "## features description\n",
    "- No missing values\n",
    "- All features continuous\n",
    "- Target variable binary\n",
    "- Target variable looks somewhat balanced, but maybe there is a room for under/oversampling, or smote"
   ]
  },
  {
   "cell_type": "code",
   "execution_count": 96,
   "metadata": {},
   "outputs": [],
   "source": [
    "# TODO: check for outliers"
   ]
  },
  {
   "cell_type": "code",
   "execution_count": 97,
   "metadata": {},
   "outputs": [
    {
     "data": {
      "text/plain": [
       "diagnosis                       0.234177\n",
       "radius_mean                    12.418920\n",
       "texture_mean                   18.498909\n",
       "perimeter_mean                590.440480\n",
       "area_mean                  123843.554318\n",
       "smoothness_mean                 0.000198\n",
       "compactness_mean                0.002789\n",
       "concavity_mean                  0.006355\n",
       "concave points_mean             0.001506\n",
       "symmetry_mean                   0.000752\n",
       "fractal_dimension_mean          0.000050\n",
       "radius_se                       0.076902\n",
       "texture_se                      0.304316\n",
       "perimeter_se                    4.087896\n",
       "area_se                      2069.431583\n",
       "smoothness_se                   0.000009\n",
       "compactness_se                  0.000321\n",
       "concavity_se                    0.000911\n",
       "concave points_se               0.000038\n",
       "symmetry_se                     0.000068\n",
       "fractal_dimension_se            0.000007\n",
       "radius_worst                   23.360224\n",
       "texture_worst                  37.776483\n",
       "perimeter_worst              1129.130847\n",
       "area_worst                 324167.385102\n",
       "smoothness_worst                0.000521\n",
       "compactness_worst               0.024755\n",
       "concavity_worst                 0.043524\n",
       "concave points_worst            0.004321\n",
       "symmetry_worst                  0.003828\n",
       "fractal_dimension_worst         0.000326\n",
       "dtype: float64"
      ]
     },
     "execution_count": 97,
     "metadata": {},
     "output_type": "execute_result"
    }
   ],
   "source": [
    "# check variance of each column\n",
    "df.var()"
   ]
  },
  {
   "attachments": {},
   "cell_type": "markdown",
   "metadata": {},
   "source": [
    "Some columns have high variance, there is a room for scaling."
   ]
  },
  {
   "cell_type": "code",
   "execution_count": 98,
   "metadata": {},
   "outputs": [],
   "source": [
    "# apply min-max normalization to all columns except diagnosis\n",
    "df_norm = df.copy()\n",
    "df_norm.drop(['diagnosis'], axis=1, inplace=True)\n",
    "df_norm = (df_norm - df_norm.min()) / (df_norm.max() - df_norm.min())\n",
    "# add diagnosis column to normalized dataframe\n",
    "df_norm['diagnosis'] = df['diagnosis']"
   ]
  },
  {
   "cell_type": "code",
   "execution_count": 99,
   "metadata": {},
   "outputs": [
    {
     "data": {
      "text/plain": [
       "radius_mean                0.027818\n",
       "texture_mean               0.021156\n",
       "perimeter_mean             0.028195\n",
       "area_mean                  0.022283\n",
       "smoothness_mean            0.016121\n",
       "compactness_mean           0.026242\n",
       "concavity_mean             0.034889\n",
       "concave points_mean        0.037194\n",
       "symmetry_mean              0.019170\n",
       "fractal_dimension_mean     0.022112\n",
       "radius_se                  0.010084\n",
       "texture_se                 0.014864\n",
       "perimeter_se               0.009076\n",
       "area_se                    0.007219\n",
       "smoothness_se              0.010418\n",
       "compactness_se             0.018090\n",
       "concavity_se               0.005811\n",
       "concave points_se          0.013662\n",
       "symmetry_se                0.013529\n",
       "fractal_dimension_se       0.008357\n",
       "radius_worst               0.029563\n",
       "texture_worst              0.026835\n",
       "perimeter_worst            0.028007\n",
       "area_worst                 0.019581\n",
       "smoothness_worst           0.022734\n",
       "compactness_worst          0.023302\n",
       "concavity_worst            0.027766\n",
       "concave points_worst       0.051024\n",
       "symmetry_worst             0.014873\n",
       "fractal_dimension_worst    0.014034\n",
       "diagnosis                  0.234177\n",
       "dtype: float64"
      ]
     },
     "execution_count": 99,
     "metadata": {},
     "output_type": "execute_result"
    }
   ],
   "source": [
    "# check variance of each column after normalization\n",
    "df_norm.var()"
   ]
  },
  {
   "cell_type": "code",
   "execution_count": 100,
   "metadata": {},
   "outputs": [],
   "source": [
    "# TODO: check for correlation between columns"
   ]
  },
  {
   "cell_type": "code",
   "execution_count": 101,
   "metadata": {},
   "outputs": [
    {
     "name": "stderr",
     "output_type": "stream",
     "text": [
      "/home/bubakulus/.local/lib/python3.10/site-packages/seaborn/axisgrid.py:745: FutureWarning: iteritems is deprecated and will be removed in a future version. Use .items instead.\n",
      "  plot_args = [v for k, v in plot_data.iteritems()]\n",
      "/home/bubakulus/.local/lib/python3.10/site-packages/seaborn/axisgrid.py:745: FutureWarning: iteritems is deprecated and will be removed in a future version. Use .items instead.\n",
      "  plot_args = [v for k, v in plot_data.iteritems()]\n"
     ]
    },
    {
     "data": {
      "image/png": "[encoded data removed]",
      "text/plain": [
       "<Figure size 376.736x300 with 1 Axes>"
      ]
     },
     "metadata": {},
     "output_type": "display_data"
    }
   ],
   "source": [
    "# visualize using PCA based on diagnosis column\n",
    "\n",
    "# prepare PCA\n",
    "pca = PCA(n_components=2)\n",
    "# fit PCA to normalized dataframe\n",
    "pca.fit(df_norm.drop(['diagnosis'], axis=1))\n",
    "\n",
    "# transform normalized dataframe\n",
    "pca_data = pca.transform(df_norm.drop(['diagnosis'], axis=1))\n",
    "# add diagnosis column to transformed dataframe\n",
    "pca_data = np.vstack((pca_data.T, df_norm['diagnosis'].astype('uint8'))).T\n",
    "\n",
    "# create dataframe from transformed data\n",
    "pca_df = pd.DataFrame(data=pca_data, columns=('1st_principal', '2nd_principal', 'diagnosis'))\n",
    "\n",
    "# visualize transformed data\n",
    "sns.FacetGrid(pca_df, hue='diagnosis').map(plt.scatter, '1st_principal', '2nd_principal').add_legend()\n",
    "plt.show()"
   ]
  },
  {
   "attachments": {},
   "cell_type": "markdown",
   "metadata": {},
   "source": [
    "Most of data can be separated even with a line in 2d space, it is expected, that future models will be able to classify data with high accuracy."
   ]
  }
 ],
 "metadata": {
  "kernelspec": {
   "display_name": "Python 3",
   "language": "python",
   "name": "python3"
  },
  "language_info": {
   "codemirror_mode": {
    "name": "ipython",
    "version": 3
   },
   "file_extension": ".py",
   "mimetype": "text/x-python",
   "name": "python",
   "nbconvert_exporter": "python",
   "pygments_lexer": "ipython3",
   "version": "3.10.9"
  },
  "orig_nbformat": 4,
  "vscode": {
   "interpreter": {
    "hash": "e7370f93d1d0cde622a1f8e1c04877d8463912d04d973331ad4851f04de6915a"
   }
  }
 },
 "nbformat": 4,
 "nbformat_minor": 2
}
